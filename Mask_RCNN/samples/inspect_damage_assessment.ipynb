{
 "cells": [
  {
   "cell_type": "code",
   "execution_count": 1,
   "metadata": {},
   "outputs": [],
   "source": [
    "%matplotlib inline\n",
    "from pycocotools.coco import COCO\n",
    "import numpy as np\n",
    "import skimage.io as io\n",
    "from skimage import color\n",
    "import matplotlib.pyplot as plt\n",
    "import cv2\n",
    "import os\n",
    "import glob\n",
    "from PIL import Image\n",
    "import random\n",
    "import datetime"
   ]
  },
  {
   "cell_type": "code",
   "execution_count": 2,
   "metadata": {},
   "outputs": [],
   "source": [
    "#The images where the COCO dataset lives.\n",
    "dataDir='C:\\\\Users\\\\dpawa\\\\OneDrive\\\\Documents\\\\project690\\\\xBD\\\\joplin-test'\n",
    "output='C:\\\\Users\\\\dpawa\\\\PycharmProjects\\\\daen690\\\\Mask_RCNN\\\\samples\\\\test_pre_post_quad'"
   ]
  },
  {
   "cell_type": "code",
   "execution_count": 3,
   "metadata": {},
   "outputs": [
    {
     "name": "stdout",
     "output_type": "stream",
     "text": [
      "num images:  7\n"
     ]
    }
   ],
   "source": [
    "pre_images = sorted(glob.glob(os.path.join(dataDir, \"*pre*\")))\n",
    "post_images = sorted(glob.glob(os.path.join(dataDir, \"*post*\")))\n",
    "print(\"num images: \", len(pre_images))"
   ]
  },
  {
   "cell_type": "code",
   "execution_count": 5,
   "metadata": {},
   "outputs": [
    {
     "name": "stderr",
     "output_type": "stream",
     "text": [
      "7it [00:01,  4.19it/s]\n"
     ]
    }
   ],
   "source": [
    "zeros = np.zeros((1024, 1024)).astype(int)\n",
    "\n",
    "for pre_filename, post_filename in tqdm(zip(pre_images, post_images)):\n",
    "    pre_image = cv2.imread(pre_filename, cv2.IMREAD_GRAYSCALE)\n",
    "    post_image = cv2.imread(post_filename, cv2.IMREAD_GRAYSCALE)\n",
    "    rgbArray = np.zeros((1024, 1024, 3), 'uint8')\n",
    "    rgbArray[..., 0] = pre_image\n",
    "    rgbArray[..., 1] = post_image\n",
    "    rgbArray[..., 2] = zeros\n",
    "    basename = os.path.basename(post_filename)\n",
    "    write_filename = os.path.join(output, basename)\n",
    "    cv2.imwrite(write_filename, rgbArray)"
   ]
  },
  {
   "cell_type": "code",
   "execution_count": 8,
   "metadata": {},
   "outputs": [],
   "source": [
    "def group(lst, n):\n",
    "    \"\"\"group([0,3,4,10,2,3], 2) => [(0,3), (4,10), (2,3)]\n",
    "    \n",
    "    Group a list into consecutive n-tuples. Incomplete tuples are\n",
    "    discarded e.g.\n",
    "    \n",
    "    >>> group(range(10), 3)\n",
    "    [(0, 1, 2), (3, 4, 5), (6, 7, 8)]\n",
    "    \"\"\"\n",
    "    return zip(*[lst[i::n] for i in range(n)])"
   ]
  },
  {
   "cell_type": "code",
   "execution_count": 9,
   "metadata": {},
   "outputs": [],
   "source": [
    "annotation_files = sorted(glob.glob(\"C:\\\\Users\\\\dpawa\\\\OneDrive\\\\Documents\\\\project690\\\\xBD\\\\joplin-test\\\\labels\\\\*\"))\n",
    "annotation_files_as_pairs = list(group(annotation_files, 2))\n",
    "\n",
    "pre_train_files = []\n",
    "#pre_val_files = []\n",
    "post_train_files = []\n",
    "#post_val_files = []\n",
    "for (post, pre) in annotation_files_as_pairs:\n",
    "    pre_train_files.append(pre)\n",
    "    post_train_files.append(post)\n"
   ]
  },
  {
   "cell_type": "code",
   "execution_count": 11,
   "metadata": {},
   "outputs": [
    {
     "name": "stdout",
     "output_type": "stream",
     "text": [
      "DAMAGE\n",
      "Num train files: 7\n"
     ]
    }
   ],
   "source": [
    "print(\"DAMAGE\")\n",
    "print(\"Num train files: {}\".format(len(post_train_files)))"
   ]
  },
  {
   "cell_type": "code",
   "execution_count": 13,
   "metadata": {},
   "outputs": [],
   "source": [
    "from damage_annotations import DamageAnnotationFormatter\n",
    "\n",
    "# instance segmentation and damage assessment, train\n",
    "damage_annotation_formatter = DamageAnnotationFormatter(instance_segmentation=True)\n",
    "for filename in post_train_files:\n",
    "    damage_annotation_formatter.add_image_from_filename(filename)\n",
    "damage_annotation_formatter.write_to_json(\"C:\\\\Users\\\\dpawa\\\\PycharmProjects\\\\daen690\\\\Mask_RCNN\\\\samples\\\\damage_dataset_test.json\")\n",
    "\n"
   ]
  }
 ],
 "metadata": {
  "kernelspec": {
   "display_name": "Python 3",
   "language": "python",
   "name": "python3"
  },
  "language_info": {
   "codemirror_mode": {
    "name": "ipython",
    "version": 3
   },
   "file_extension": ".py",
   "mimetype": "text/x-python",
   "name": "python",
   "nbconvert_exporter": "python",
   "pygments_lexer": "ipython3",
   "version": "3.7.6"
  }
 },
 "nbformat": 4,
 "nbformat_minor": 4
}
